{
 "cells": [
  {
   "cell_type": "code",
   "execution_count": 1,
   "id": "1fba0526",
   "metadata": {},
   "outputs": [],
   "source": [
    "import pandas as pd"
   ]
  },
  {
   "cell_type": "code",
   "execution_count": 12,
   "id": "5c5a4699",
   "metadata": {},
   "outputs": [],
   "source": [
    "import numpy as np "
   ]
  },
  {
   "cell_type": "code",
   "execution_count": 3,
   "id": "f967e5d0",
   "metadata": {},
   "outputs": [
    {
     "data": {
      "text/plain": [
       "'1.3.4'"
      ]
     },
     "execution_count": 3,
     "metadata": {},
     "output_type": "execute_result"
    }
   ],
   "source": [
    "pd.__version__"
   ]
  },
  {
   "cell_type": "code",
   "execution_count": 5,
   "id": "be91406d",
   "metadata": {},
   "outputs": [
    {
     "ename": "NameError",
     "evalue": "name 'python' is not defined",
     "output_type": "error",
     "traceback": [
      "\u001b[0;31m---------------------------------------------------------------------------\u001b[0m",
      "\u001b[0;31mNameError\u001b[0m                                 Traceback (most recent call last)",
      "\u001b[0;32m/var/folders/jy/j1v16kdn0ws9wkysn8s1zw540000gn/T/ipykernel_6882/1510789129.py\u001b[0m in \u001b[0;36m<module>\u001b[0;34m\u001b[0m\n\u001b[0;32m----> 1\u001b[0;31m \u001b[0mpython\u001b[0m\u001b[0;34m.\u001b[0m\u001b[0m__version__\u001b[0m\u001b[0;34m\u001b[0m\u001b[0;34m\u001b[0m\u001b[0m\n\u001b[0m",
      "\u001b[0;31mNameError\u001b[0m: name 'python' is not defined"
     ]
    }
   ],
   "source": [
    "python.__version__"
   ]
  },
  {
   "cell_type": "code",
   "execution_count": 8,
   "id": "86a319fe",
   "metadata": {},
   "outputs": [
    {
     "name": "stdout",
     "output_type": "stream",
     "text": [
      "Package                            Version\r\n",
      "---------------------------------- --------------------\r\n",
      "absl-py                            1.0.0\r\n",
      "alabaster                          0.7.12\r\n",
      "anaconda-client                    1.9.0\r\n",
      "anaconda-navigator                 2.1.1\r\n",
      "anaconda-project                   0.10.1\r\n",
      "anyio                              2.2.0\r\n",
      "appdirs                            1.4.4\r\n",
      "applaunchservices                  0.2.1\r\n",
      "appnope                            0.1.2\r\n",
      "appscript                          1.1.2\r\n",
      "argh                               0.26.2\r\n",
      "argon2-cffi                        20.1.0\r\n",
      "arrow                              0.13.1\r\n",
      "asn1crypto                         1.4.0\r\n",
      "astroid                            2.6.6\r\n",
      "astropy                            4.3.1\r\n",
      "astunparse                         1.6.3\r\n",
      "async-generator                    1.10\r\n",
      "atomicwrites                       1.4.0\r\n",
      "attrs                              21.2.0\r\n",
      "autopep8                           1.5.7\r\n",
      "Babel                              2.9.1\r\n",
      "backcall                           0.2.0\r\n",
      "backports.functools-lru-cache      1.6.4\r\n",
      "backports.shutil-get-terminal-size 1.0.0\r\n",
      "backports.tempfile                 1.0\r\n",
      "backports.weakref                  1.0.post1\r\n",
      "beautifulsoup4                     4.10.0\r\n",
      "binaryornot                        0.4.4\r\n",
      "bitarray                           2.3.0\r\n",
      "bkcharts                           0.2\r\n",
      "black                              19.10b0\r\n",
      "bleach                             4.0.0\r\n",
      "bokeh                              2.4.1\r\n",
      "boto                               2.49.0\r\n",
      "Bottleneck                         1.3.2\r\n",
      "brotlipy                           0.7.0\r\n",
      "cached-property                    1.5.2\r\n",
      "cachetools                         5.0.0\r\n",
      "certifi                            2021.10.8\r\n",
      "cffi                               1.14.6\r\n",
      "chardet                            4.0.0\r\n",
      "charset-normalizer                 2.0.4\r\n",
      "click                              8.0.3\r\n",
      "cloudpickle                        2.0.0\r\n",
      "clyent                             1.2.2\r\n",
      "colorama                           0.4.4\r\n",
      "conda                              4.10.3\r\n",
      "conda-build                        3.21.5\r\n",
      "conda-content-trust                0+unknown\r\n",
      "conda-pack                         0.6.0\r\n",
      "conda-package-handling             1.7.3\r\n",
      "conda-repo-cli                     1.0.4\r\n",
      "conda-token                        0.3.0\r\n",
      "conda-verify                       3.4.2\r\n",
      "contextlib2                        0.6.0.post1\r\n",
      "cookiecutter                       1.7.2\r\n",
      "cryptography                       3.4.8\r\n",
      "cycler                             0.10.0\r\n",
      "Cython                             0.29.24\r\n",
      "cytoolz                            0.11.0\r\n",
      "daal4py                            2021.3.0\r\n",
      "dask                               2021.10.0\r\n",
      "debugpy                            1.4.1\r\n",
      "decorator                          5.1.0\r\n",
      "defusedxml                         0.7.1\r\n",
      "diff-match-patch                   20200713\r\n",
      "distributed                        2021.10.0\r\n",
      "docutils                           0.17.1\r\n",
      "entrypoints                        0.3\r\n",
      "et-xmlfile                         1.1.0\r\n",
      "fastcache                          1.1.0\r\n",
      "filelock                           3.3.1\r\n",
      "flake8                             3.9.2\r\n",
      "Flask                              1.1.2\r\n",
      "flatbuffers                        2.0\r\n",
      "fonttools                          4.25.0\r\n",
      "fsspec                             2021.8.1\r\n",
      "future                             0.18.2\r\n",
      "gast                               0.5.3\r\n",
      "gevent                             21.8.0\r\n",
      "glob2                              0.7\r\n",
      "gmpy2                              2.0.8\r\n",
      "google-auth                        2.6.0\r\n",
      "google-auth-oauthlib               0.4.6\r\n",
      "google-pasta                       0.2.0\r\n",
      "greenlet                           1.1.1\r\n",
      "grpcio                             1.44.0\r\n",
      "h5py                               3.2.1\r\n",
      "HeapDict                           1.0.1\r\n",
      "html5lib                           1.1\r\n",
      "htmlmin                            0.1.12\r\n",
      "idna                               3.2\r\n",
      "imagecodecs                        2021.8.26\r\n",
      "ImageHash                          4.2.1\r\n",
      "imageio                            2.9.0\r\n",
      "imagesize                          1.2.0\r\n",
      "imbalanced-learn                   0.9.0\r\n",
      "imblearn                           0.0\r\n",
      "importlib-metadata                 4.8.1\r\n",
      "inflection                         0.5.1\r\n",
      "iniconfig                          1.1.1\r\n",
      "intervaltree                       3.1.0\r\n",
      "ipykernel                          6.4.1\r\n",
      "ipython                            7.29.0\r\n",
      "ipython-genutils                   0.2.0\r\n",
      "ipywidgets                         7.6.5\r\n",
      "isort                              5.9.3\r\n",
      "itsdangerous                       2.0.1\r\n",
      "jdcal                              1.4.1\r\n",
      "jedi                               0.18.0\r\n",
      "Jinja2                             2.11.3\r\n",
      "jinja2-time                        0.2.0\r\n",
      "joblib                             1.0.1\r\n",
      "json5                              0.9.6\r\n",
      "jsonschema                         3.2.0\r\n",
      "jupyter                            1.0.0\r\n",
      "jupyter-client                     6.1.12\r\n",
      "jupyter-console                    6.4.0\r\n",
      "jupyter-core                       4.8.1\r\n",
      "jupyter-server                     1.4.1\r\n",
      "jupyterlab                         3.2.1\r\n",
      "jupyterlab-pygments                0.1.2\r\n",
      "jupyterlab-server                  2.8.2\r\n",
      "jupyterlab-widgets                 1.0.0\r\n",
      "keras                              2.8.0\r\n",
      "Keras-Preprocessing                1.1.2\r\n",
      "keyring                            23.1.0\r\n",
      "kiwisolver                         1.3.1\r\n",
      "lazy-object-proxy                  1.6.0\r\n",
      "libarchive-c                       2.9\r\n",
      "libclang                           13.0.0\r\n",
      "line-profiler                      4.0.2\r\n",
      "llvmlite                           0.37.0\r\n",
      "locket                             0.2.1\r\n",
      "lxml                               4.6.3\r\n",
      "Markdown                           3.3.6\r\n",
      "MarkupSafe                         2.0.1\r\n",
      "matplotlib                         3.4.3\r\n",
      "matplotlib-inline                  0.1.2\r\n",
      "mccabe                             0.6.1\r\n",
      "memory-profiler                    0.61.0\r\n",
      "missingno                          0.5.0\r\n",
      "mistune                            0.8.4\r\n",
      "mkl-fft                            1.3.1\r\n",
      "mkl-random                         1.2.2\r\n",
      "mkl-service                        2.4.0\r\n",
      "mock                               4.0.3\r\n",
      "more-itertools                     8.10.0\r\n",
      "mpmath                             1.2.1\r\n",
      "msgpack                            1.0.2\r\n",
      "multimethod                        1.7\r\n",
      "multipledispatch                   0.6.0\r\n",
      "munkres                            1.1.4\r\n",
      "mypy-extensions                    0.4.3\r\n",
      "navigator-updater                  0.2.1\r\n",
      "nbclassic                          0.2.6\r\n",
      "nbclient                           0.5.3\r\n",
      "nbconvert                          6.1.0\r\n",
      "nbformat                           5.1.3\r\n",
      "nest-asyncio                       1.5.1\r\n",
      "networkx                           2.6.3\r\n",
      "nltk                               3.6.7\r\n",
      "nose                               1.3.7\r\n",
      "notebook                           6.4.5\r\n",
      "numba                              0.54.1\r\n",
      "numexpr                            2.7.3\r\n",
      "numpy                              1.20.3\r\n",
      "numpydoc                           1.1.0\r\n",
      "oauthlib                           3.2.0\r\n",
      "olefile                            0.46\r\n",
      "openpyxl                           3.0.9\r\n",
      "opt-einsum                         3.3.0\r\n",
      "packaging                          21.0\r\n",
      "pandas                             1.3.4\r\n",
      "pandas-profiling                   3.1.0\r\n",
      "pandocfilters                      1.4.3\r\n",
      "parso                              0.8.2\r\n",
      "partd                              1.2.0\r\n",
      "path                               16.0.0\r\n",
      "pathlib2                           2.3.6\r\n",
      "pathspec                           0.7.0\r\n",
      "patsy                              0.5.2\r\n",
      "pep8                               1.7.1\r\n",
      "pexpect                            4.8.0\r\n",
      "phik                               0.12.0\r\n",
      "pickleshare                        0.7.5\r\n",
      "Pillow                             8.4.0\r\n",
      "pip                                21.2.4\r\n",
      "pkginfo                            1.7.1\r\n",
      "pluggy                             0.13.1\r\n",
      "ply                                3.11\r\n",
      "poyo                               0.5.0\r\n",
      "prometheus-client                  0.11.0\r\n",
      "prompt-toolkit                     3.0.20\r\n",
      "protobuf                           3.19.4\r\n",
      "psutil                             5.8.0\r\n",
      "ptyprocess                         0.7.0\r\n",
      "py                                 1.10.0\r\n",
      "pyasn1                             0.4.8\r\n",
      "pyasn1-modules                     0.2.8\r\n",
      "pycodestyle                        2.7.0\r\n",
      "pycosat                            0.6.3\r\n",
      "pycparser                          2.20\r\n",
      "pycurl                             7.44.1\r\n",
      "pydantic                           1.9.0\r\n",
      "pydocstyle                         6.1.1\r\n",
      "pyerfa                             2.0.0\r\n",
      "pyflakes                           2.3.1\r\n",
      "Pygments                           2.10.0\r\n",
      "PyJWT                              2.1.0\r\n",
      "pylint                             2.9.6\r\n",
      "pyls-spyder                        0.4.0\r\n",
      "pyodbc                             4.0.0-unsupported\r\n",
      "pyOpenSSL                          21.0.0\r\n",
      "pyparsing                          3.0.4\r\n",
      "pyrsistent                         0.18.0\r\n",
      "PySocks                            1.7.1\r\n",
      "pytest                             6.2.4\r\n",
      "python-dateutil                    2.8.2\r\n",
      "python-lsp-black                   1.0.0\r\n",
      "python-lsp-jsonrpc                 1.0.0\r\n",
      "python-lsp-server                  1.2.4\r\n",
      "python-slugify                     5.0.2\r\n",
      "pytz                               2021.3\r\n",
      "PyWavelets                         1.1.1\r\n",
      "PyYAML                             6.0\r\n",
      "pyzmq                              22.2.1\r\n",
      "QDarkStyle                         3.0.2\r\n",
      "qstylizer                          0.1.10\r\n",
      "QtAwesome                          1.0.2\r\n",
      "qtconsole                          5.1.1\r\n",
      "QtPy                               1.10.0\r\n",
      "regex                              2021.8.3\r\n",
      "requests                           2.26.0\r\n",
      "requests-oauthlib                  1.3.1\r\n",
      "rope                               0.19.0\r\n",
      "rsa                                4.8\r\n",
      "Rtree                              0.9.7\r\n",
      "ruamel-yaml-conda                  0.15.100\r\n",
      "scikit-image                       0.18.3\r\n",
      "scikit-learn                       1.0.2\r\n",
      "scikit-learn-intelex               2021.20210714.100439\r\n",
      "scikit-plot                        0.3.7\r\n",
      "scipy                              1.7.1\r\n",
      "seaborn                            0.11.2\r\n",
      "Send2Trash                         1.8.0\r\n",
      "setuptools                         58.0.4\r\n",
      "simplegeneric                      0.8.1\r\n",
      "singledispatch                     3.7.0\r\n",
      "sip                                4.19.13\r\n",
      "six                                1.16.0\r\n",
      "sniffio                            1.2.0\r\n",
      "snowballstemmer                    2.1.0\r\n",
      "sortedcollections                  2.1.0\r\n",
      "sortedcontainers                   2.4.0\r\n",
      "soupsieve                          2.2.1\r\n",
      "Sphinx                             4.2.0\r\n",
      "sphinxcontrib-applehelp            1.0.2\r\n",
      "sphinxcontrib-devhelp              1.0.2\r\n",
      "sphinxcontrib-htmlhelp             2.0.0\r\n",
      "sphinxcontrib-jsmath               1.0.1\r\n",
      "sphinxcontrib-qthelp               1.0.3\r\n",
      "sphinxcontrib-serializinghtml      1.1.5\r\n",
      "sphinxcontrib-websupport           1.2.4\r\n",
      "spyder                             5.1.5\r\n",
      "spyder-kernels                     2.1.3\r\n",
      "SQLAlchemy                         1.4.22\r\n",
      "statsmodels                        0.12.2\r\n",
      "sympy                              1.9\r\n",
      "tables                             3.6.1\r\n",
      "tangled-up-in-unicode              0.1.0\r\n",
      "TBB                                0.2\r\n",
      "tblib                              1.7.0\r\n",
      "tensorboard                        2.8.0\r\n",
      "tensorboard-data-server            0.6.1\r\n",
      "tensorboard-plugin-wit             1.8.1\r\n",
      "tensorflow                         2.8.0\r\n",
      "tensorflow-io-gcs-filesystem       0.24.0\r\n",
      "termcolor                          1.1.0\r\n",
      "terminado                          0.9.4\r\n",
      "testpath                           0.5.0\r\n",
      "text-unidecode                     1.3\r\n",
      "textdistance                       4.2.1\r\n",
      "tf-estimator-nightly               2.8.0.dev2021122109\r\n",
      "threadpoolctl                      2.2.0\r\n",
      "three-merge                        0.1.1\r\n",
      "tifffile                           2021.7.2\r\n",
      "tinycss                            0.4\r\n",
      "toml                               0.10.2\r\n",
      "toolz                              0.11.1\r\n",
      "tornado                            6.1\r\n",
      "tqdm                               4.62.3\r\n",
      "traitlets                          5.1.0\r\n",
      "typed-ast                          1.4.3\r\n",
      "typing-extensions                  3.10.0.2\r\n",
      "ujson                              4.0.2\r\n",
      "unicodecsv                         0.14.1\r\n",
      "Unidecode                          1.2.0\r\n",
      "urllib3                            1.26.7\r\n",
      "vega-datasets                      0.9.0\r\n",
      "visions                            0.7.4\r\n",
      "watchdog                           2.1.3\r\n",
      "wcwidth                            0.2.5\r\n",
      "webencodings                       0.5.1\r\n",
      "Werkzeug                           2.0.2\r\n",
      "wheel                              0.37.0\r\n",
      "whichcraft                         0.6.1\r\n",
      "widgetsnbextension                 3.5.1\r\n",
      "wrapt                              1.12.1\r\n",
      "wurlitzer                          2.1.1\r\n",
      "xgboost                            1.5.2\r\n",
      "xlrd                               2.0.1\r\n",
      "XlsxWriter                         3.0.1\r\n",
      "xlwings                            0.24.9\r\n",
      "xlwt                               1.3.0\r\n",
      "xmltodict                          0.12.0\r\n",
      "yapf                               0.31.0\r\n",
      "zict                               2.0.0\r\n",
      "zipp                               3.6.0\r\n",
      "zope.event                         4.5.0\r\n",
      "zope.interface                     5.4.0\r\n"
     ]
    },
    {
     "name": "stdout",
     "output_type": "stream",
     "text": [
      "Note: you may need to restart the kernel to use updated packages.\n"
     ]
    }
   ],
   "source": [
    "pip list"
   ]
  },
  {
   "cell_type": "code",
   "execution_count": 9,
   "id": "aee25ed2",
   "metadata": {},
   "outputs": [
    {
     "data": {
      "text/plain": [
       "0    0.25\n",
       "1    0.50\n",
       "2    0.75\n",
       "3    1.00\n",
       "dtype: float64"
      ]
     },
     "execution_count": 9,
     "metadata": {},
     "output_type": "execute_result"
    }
   ],
   "source": [
    "#Series\n",
    "data = pd.Series([.25, .50, .75, 1.0])\n",
    "data "
   ]
  },
  {
   "cell_type": "code",
   "execution_count": 10,
   "id": "064e7f45",
   "metadata": {},
   "outputs": [
    {
     "data": {
      "text/plain": [
       "array([0.25, 0.5 , 0.75, 1.  ])"
      ]
     },
     "execution_count": 10,
     "metadata": {},
     "output_type": "execute_result"
    }
   ],
   "source": [
    "data.values \n",
    "#np array "
   ]
  },
  {
   "cell_type": "code",
   "execution_count": 11,
   "id": "205ae8c0",
   "metadata": {},
   "outputs": [
    {
     "data": {
      "text/plain": [
       "RangeIndex(start=0, stop=4, step=1)"
      ]
     },
     "execution_count": 11,
     "metadata": {},
     "output_type": "execute_result"
    }
   ],
   "source": [
    "data.index"
   ]
  },
  {
   "cell_type": "code",
   "execution_count": 13,
   "id": "aa55603f",
   "metadata": {},
   "outputs": [
    {
     "data": {
      "text/plain": [
       "a    2\n",
       "b    3\n",
       "c    4\n",
       "d    5\n",
       "dtype: int64"
      ]
     },
     "execution_count": 13,
     "metadata": {},
     "output_type": "execute_result"
    }
   ],
   "source": [
    "data_2 = pd.Series([2,3,4,5], index = ['a','b','c','d'])\n",
    "data_2"
   ]
  },
  {
   "cell_type": "code",
   "execution_count": 14,
   "id": "8e27e9d2",
   "metadata": {},
   "outputs": [
    {
     "data": {
      "text/plain": [
       "cali    123\n",
       "ny      456\n",
       "flor    789\n",
       "dtype: int64"
      ]
     },
     "execution_count": 14,
     "metadata": {},
     "output_type": "execute_result"
    }
   ],
   "source": [
    "#series as a specilised dict\n",
    "pop_dict = {'cali':123,\n",
    "           'ny': 456,\n",
    "           'flor': 789\n",
    "           }\n",
    "pop_ser = pd.Series(pop_dict)\n",
    "pop_ser "
   ]
  },
  {
   "cell_type": "code",
   "execution_count": 15,
   "id": "654b5e90",
   "metadata": {},
   "outputs": [
    {
     "data": {
      "text/plain": [
       "123"
      ]
     },
     "execution_count": 15,
     "metadata": {},
     "output_type": "execute_result"
    }
   ],
   "source": [
    "pop_ser['cali']"
   ]
  },
  {
   "cell_type": "code",
   "execution_count": 16,
   "id": "b2f5dcaf",
   "metadata": {},
   "outputs": [
    {
     "data": {
      "text/plain": [
       "cali    123\n",
       "ny      456\n",
       "dtype: int64"
      ]
     },
     "execution_count": 16,
     "metadata": {},
     "output_type": "execute_result"
    }
   ],
   "source": [
    "pop_ser['cali':'ny']"
   ]
  },
  {
   "cell_type": "code",
   "execution_count": 17,
   "id": "1426d035",
   "metadata": {},
   "outputs": [
    {
     "data": {
      "text/plain": [
       "10    5\n",
       "20    5\n",
       "30    5\n",
       "dtype: int64"
      ]
     },
     "execution_count": 17,
     "metadata": {},
     "output_type": "execute_result"
    }
   ],
   "source": [
    "data_3 = pd.Series(5, index = [10,20,30])\n",
    "data_3"
   ]
  },
  {
   "cell_type": "code",
   "execution_count": 18,
   "id": "aebeeeff",
   "metadata": {},
   "outputs": [
    {
     "data": {
      "text/plain": [
       "2    a\n",
       "1    b\n",
       "3    c\n",
       "dtype: object"
      ]
     },
     "execution_count": 18,
     "metadata": {},
     "output_type": "execute_result"
    }
   ],
   "source": [
    "pd.Series({2:'a', 1:'b', 3: 'c'})"
   ]
  },
  {
   "cell_type": "code",
   "execution_count": 19,
   "id": "17065c0f",
   "metadata": {},
   "outputs": [
    {
     "data": {
      "text/plain": [
       "1    b\n",
       "2    a\n",
       "dtype: object"
      ]
     },
     "execution_count": 19,
     "metadata": {},
     "output_type": "execute_result"
    }
   ],
   "source": [
    "pd.Series({2:'a', 1:'b', 3: 'c'}, index = [1,2])"
   ]
  },
  {
   "cell_type": "code",
   "execution_count": 21,
   "id": "56d615e3",
   "metadata": {},
   "outputs": [
    {
     "data": {
      "text/plain": [
       "cali    700\n",
       "ny      800\n",
       "flor    900\n",
       "dtype: int64"
      ]
     },
     "execution_count": 21,
     "metadata": {},
     "output_type": "execute_result"
    }
   ],
   "source": [
    "area_dict = {'cali':700,\n",
    "           'ny': 800,\n",
    "           'flor': 900\n",
    "           }\n",
    "area_dict\n",
    "area_ser = pd.Series(area_dict)\n",
    "area_ser"
   ]
  },
  {
   "cell_type": "code",
   "execution_count": 22,
   "id": "79829eb2",
   "metadata": {},
   "outputs": [
    {
     "data": {
      "text/html": [
       "<div>\n",
       "<style scoped>\n",
       "    .dataframe tbody tr th:only-of-type {\n",
       "        vertical-align: middle;\n",
       "    }\n",
       "\n",
       "    .dataframe tbody tr th {\n",
       "        vertical-align: top;\n",
       "    }\n",
       "\n",
       "    .dataframe thead th {\n",
       "        text-align: right;\n",
       "    }\n",
       "</style>\n",
       "<table border=\"1\" class=\"dataframe\">\n",
       "  <thead>\n",
       "    <tr style=\"text-align: right;\">\n",
       "      <th></th>\n",
       "      <th>population</th>\n",
       "      <th>area</th>\n",
       "    </tr>\n",
       "  </thead>\n",
       "  <tbody>\n",
       "    <tr>\n",
       "      <th>cali</th>\n",
       "      <td>123</td>\n",
       "      <td>700</td>\n",
       "    </tr>\n",
       "    <tr>\n",
       "      <th>ny</th>\n",
       "      <td>456</td>\n",
       "      <td>800</td>\n",
       "    </tr>\n",
       "    <tr>\n",
       "      <th>flor</th>\n",
       "      <td>789</td>\n",
       "      <td>900</td>\n",
       "    </tr>\n",
       "  </tbody>\n",
       "</table>\n",
       "</div>"
      ],
      "text/plain": [
       "      population  area\n",
       "cali         123   700\n",
       "ny           456   800\n",
       "flor         789   900"
      ]
     },
     "execution_count": 22,
     "metadata": {},
     "output_type": "execute_result"
    }
   ],
   "source": [
    "df = pd.DataFrame({'population': pop_ser,\n",
    "                   'area': area_ser})\n",
    "df "
   ]
  },
  {
   "cell_type": "code",
   "execution_count": 23,
   "id": "14ae7f79",
   "metadata": {},
   "outputs": [
    {
     "data": {
      "text/plain": [
       "cali    700\n",
       "ny      800\n",
       "flor    900\n",
       "Name: area, dtype: int64"
      ]
     },
     "execution_count": 23,
     "metadata": {},
     "output_type": "execute_result"
    }
   ],
   "source": [
    "df['area']"
   ]
  },
  {
   "cell_type": "code",
   "execution_count": 24,
   "id": "8651ad22",
   "metadata": {},
   "outputs": [
    {
     "data": {
      "text/plain": [
       "[{'a': 0, 'b': 0}, {'a': 1, 'b': 2}, {'a': 2, 'b': 4}]"
      ]
     },
     "execution_count": 24,
     "metadata": {},
     "output_type": "execute_result"
    }
   ],
   "source": [
    "#create df from a list of dicts\n",
    "data_1 = [{'a': i, 'b':2 * i} for i in range(3)]\n",
    "data_1"
   ]
  },
  {
   "cell_type": "code",
   "execution_count": 25,
   "id": "5a989bf2",
   "metadata": {},
   "outputs": [
    {
     "data": {
      "text/html": [
       "<div>\n",
       "<style scoped>\n",
       "    .dataframe tbody tr th:only-of-type {\n",
       "        vertical-align: middle;\n",
       "    }\n",
       "\n",
       "    .dataframe tbody tr th {\n",
       "        vertical-align: top;\n",
       "    }\n",
       "\n",
       "    .dataframe thead th {\n",
       "        text-align: right;\n",
       "    }\n",
       "</style>\n",
       "<table border=\"1\" class=\"dataframe\">\n",
       "  <thead>\n",
       "    <tr style=\"text-align: right;\">\n",
       "      <th></th>\n",
       "      <th>a</th>\n",
       "      <th>b</th>\n",
       "    </tr>\n",
       "  </thead>\n",
       "  <tbody>\n",
       "    <tr>\n",
       "      <th>0</th>\n",
       "      <td>0</td>\n",
       "      <td>0</td>\n",
       "    </tr>\n",
       "    <tr>\n",
       "      <th>1</th>\n",
       "      <td>1</td>\n",
       "      <td>2</td>\n",
       "    </tr>\n",
       "    <tr>\n",
       "      <th>2</th>\n",
       "      <td>2</td>\n",
       "      <td>4</td>\n",
       "    </tr>\n",
       "  </tbody>\n",
       "</table>\n",
       "</div>"
      ],
      "text/plain": [
       "   a  b\n",
       "0  0  0\n",
       "1  1  2\n",
       "2  2  4"
      ]
     },
     "execution_count": 25,
     "metadata": {},
     "output_type": "execute_result"
    }
   ],
   "source": [
    "df_2 = pd.DataFrame(data_1)\n",
    "df_2"
   ]
  },
  {
   "cell_type": "code",
   "execution_count": 27,
   "id": "b6a722a5",
   "metadata": {},
   "outputs": [
    {
     "data": {
      "text/html": [
       "<div>\n",
       "<style scoped>\n",
       "    .dataframe tbody tr th:only-of-type {\n",
       "        vertical-align: middle;\n",
       "    }\n",
       "\n",
       "    .dataframe tbody tr th {\n",
       "        vertical-align: top;\n",
       "    }\n",
       "\n",
       "    .dataframe thead th {\n",
       "        text-align: right;\n",
       "    }\n",
       "</style>\n",
       "<table border=\"1\" class=\"dataframe\">\n",
       "  <thead>\n",
       "    <tr style=\"text-align: right;\">\n",
       "      <th></th>\n",
       "      <th>a</th>\n",
       "      <th>b</th>\n",
       "      <th>c</th>\n",
       "    </tr>\n",
       "  </thead>\n",
       "  <tbody>\n",
       "    <tr>\n",
       "      <th>0</th>\n",
       "      <td>1.0</td>\n",
       "      <td>2</td>\n",
       "      <td>NaN</td>\n",
       "    </tr>\n",
       "    <tr>\n",
       "      <th>1</th>\n",
       "      <td>NaN</td>\n",
       "      <td>3</td>\n",
       "      <td>4.0</td>\n",
       "    </tr>\n",
       "  </tbody>\n",
       "</table>\n",
       "</div>"
      ],
      "text/plain": [
       "     a  b    c\n",
       "0  1.0  2  NaN\n",
       "1  NaN  3  4.0"
      ]
     },
     "execution_count": 27,
     "metadata": {},
     "output_type": "execute_result"
    }
   ],
   "source": [
    "#Nan : Not a number\n",
    "pd.DataFrame([{'a':1, 'b':2}, {'b':3, 'c':4}])"
   ]
  },
  {
   "cell_type": "code",
   "execution_count": 28,
   "id": "eab488db",
   "metadata": {},
   "outputs": [
    {
     "data": {
      "text/html": [
       "<div>\n",
       "<style scoped>\n",
       "    .dataframe tbody tr th:only-of-type {\n",
       "        vertical-align: middle;\n",
       "    }\n",
       "\n",
       "    .dataframe tbody tr th {\n",
       "        vertical-align: top;\n",
       "    }\n",
       "\n",
       "    .dataframe thead th {\n",
       "        text-align: right;\n",
       "    }\n",
       "</style>\n",
       "<table border=\"1\" class=\"dataframe\">\n",
       "  <thead>\n",
       "    <tr style=\"text-align: right;\">\n",
       "      <th></th>\n",
       "      <th>C1</th>\n",
       "      <th>C2</th>\n",
       "    </tr>\n",
       "  </thead>\n",
       "  <tbody>\n",
       "    <tr>\n",
       "      <th>0</th>\n",
       "      <td>0.796577</td>\n",
       "      <td>0.138022</td>\n",
       "    </tr>\n",
       "    <tr>\n",
       "      <th>1</th>\n",
       "      <td>0.048736</td>\n",
       "      <td>0.856226</td>\n",
       "    </tr>\n",
       "    <tr>\n",
       "      <th>2</th>\n",
       "      <td>0.072071</td>\n",
       "      <td>0.149848</td>\n",
       "    </tr>\n",
       "  </tbody>\n",
       "</table>\n",
       "</div>"
      ],
      "text/plain": [
       "         C1        C2\n",
       "0  0.796577  0.138022\n",
       "1  0.048736  0.856226\n",
       "2  0.072071  0.149848"
      ]
     },
     "execution_count": 28,
     "metadata": {},
     "output_type": "execute_result"
    }
   ],
   "source": [
    "#make df from a 2D numpy array\n",
    "pd.DataFrame(np.random.rand(3,2), columns = ['C1', 'C2'], index = [0,1,2])"
   ]
  },
  {
   "cell_type": "code",
   "execution_count": 30,
   "id": "9e0ed6b8",
   "metadata": {},
   "outputs": [
    {
     "data": {
      "text/plain": [
       "array([(0, 0.), (0, 0.), (0, 0.)], dtype=[('A', '<i8'), ('B', '<f8')])"
      ]
     },
     "execution_count": 30,
     "metadata": {},
     "output_type": "execute_result"
    }
   ],
   "source": [
    "#make df from numpy structured structured array \n",
    "a = np.zeros(3, dtype = [('A', 'i8'), ('B', 'f8')])\n",
    "a"
   ]
  },
  {
   "cell_type": "code",
   "execution_count": 31,
   "id": "936a7fa7",
   "metadata": {},
   "outputs": [
    {
     "data": {
      "text/html": [
       "<div>\n",
       "<style scoped>\n",
       "    .dataframe tbody tr th:only-of-type {\n",
       "        vertical-align: middle;\n",
       "    }\n",
       "\n",
       "    .dataframe tbody tr th {\n",
       "        vertical-align: top;\n",
       "    }\n",
       "\n",
       "    .dataframe thead th {\n",
       "        text-align: right;\n",
       "    }\n",
       "</style>\n",
       "<table border=\"1\" class=\"dataframe\">\n",
       "  <thead>\n",
       "    <tr style=\"text-align: right;\">\n",
       "      <th></th>\n",
       "      <th>A</th>\n",
       "      <th>B</th>\n",
       "    </tr>\n",
       "  </thead>\n",
       "  <tbody>\n",
       "    <tr>\n",
       "      <th>0</th>\n",
       "      <td>0</td>\n",
       "      <td>0.0</td>\n",
       "    </tr>\n",
       "    <tr>\n",
       "      <th>1</th>\n",
       "      <td>0</td>\n",
       "      <td>0.0</td>\n",
       "    </tr>\n",
       "    <tr>\n",
       "      <th>2</th>\n",
       "      <td>0</td>\n",
       "      <td>0.0</td>\n",
       "    </tr>\n",
       "  </tbody>\n",
       "</table>\n",
       "</div>"
      ],
      "text/plain": [
       "   A    B\n",
       "0  0  0.0\n",
       "1  0  0.0\n",
       "2  0  0.0"
      ]
     },
     "execution_count": 31,
     "metadata": {},
     "output_type": "execute_result"
    }
   ],
   "source": [
    "pd.DataFrame(a)"
   ]
  },
  {
   "cell_type": "code",
   "execution_count": 33,
   "id": "93b6d986",
   "metadata": {},
   "outputs": [
    {
     "data": {
      "text/plain": [
       "Int64Index([2, 3, 5, 7], dtype='int64')"
      ]
     },
     "execution_count": 33,
     "metadata": {},
     "output_type": "execute_result"
    }
   ],
   "source": [
    "#pandas index object : Index is correct, not index \n",
    "ind = pd.Index([2,3,5,7])\n",
    "ind"
   ]
  },
  {
   "cell_type": "code",
   "execution_count": 34,
   "id": "59afcbb6",
   "metadata": {},
   "outputs": [
    {
     "data": {
      "text/plain": [
       "3"
      ]
     },
     "execution_count": 34,
     "metadata": {},
     "output_type": "execute_result"
    }
   ],
   "source": [
    "ind[1]"
   ]
  },
  {
   "cell_type": "code",
   "execution_count": 35,
   "id": "beb1bccd",
   "metadata": {},
   "outputs": [
    {
     "data": {
      "text/plain": [
       "Int64Index([2, 5], dtype='int64')"
      ]
     },
     "execution_count": 35,
     "metadata": {},
     "output_type": "execute_result"
    }
   ],
   "source": [
    "ind[::2]"
   ]
  },
  {
   "cell_type": "code",
   "execution_count": 36,
   "id": "5cb41d57",
   "metadata": {},
   "outputs": [
    {
     "name": "stdout",
     "output_type": "stream",
     "text": [
      "4 (4,) 1 int64\n"
     ]
    }
   ],
   "source": [
    "print(ind.size, ind.shape, ind.ndim, ind.dtype)"
   ]
  },
  {
   "cell_type": "code",
   "execution_count": 37,
   "id": "93ec24c0",
   "metadata": {},
   "outputs": [
    {
     "data": {
      "text/html": [
       "<div>\n",
       "<style scoped>\n",
       "    .dataframe tbody tr th:only-of-type {\n",
       "        vertical-align: middle;\n",
       "    }\n",
       "\n",
       "    .dataframe tbody tr th {\n",
       "        vertical-align: top;\n",
       "    }\n",
       "\n",
       "    .dataframe thead th {\n",
       "        text-align: right;\n",
       "    }\n",
       "</style>\n",
       "<table border=\"1\" class=\"dataframe\">\n",
       "  <thead>\n",
       "    <tr style=\"text-align: right;\">\n",
       "      <th></th>\n",
       "      <th>0</th>\n",
       "    </tr>\n",
       "  </thead>\n",
       "  <tbody>\n",
       "    <tr>\n",
       "      <th>1</th>\n",
       "      <td>a</td>\n",
       "    </tr>\n",
       "    <tr>\n",
       "      <th>2</th>\n",
       "      <td>b</td>\n",
       "    </tr>\n",
       "    <tr>\n",
       "      <th>2</th>\n",
       "      <td>c</td>\n",
       "    </tr>\n",
       "    <tr>\n",
       "      <th>3</th>\n",
       "      <td>d</td>\n",
       "    </tr>\n",
       "  </tbody>\n",
       "</table>\n",
       "</div>"
      ],
      "text/plain": [
       "   0\n",
       "1  a\n",
       "2  b\n",
       "2  c\n",
       "3  d"
      ]
     },
     "execution_count": 37,
     "metadata": {},
     "output_type": "execute_result"
    }
   ],
   "source": [
    "pd.DataFrame(['a','b','c','d'], index = [1,2,2,3])"
   ]
  },
  {
   "cell_type": "code",
   "execution_count": null,
   "id": "7ab55be2",
   "metadata": {},
   "outputs": [],
   "source": []
  }
 ],
 "metadata": {
  "kernelspec": {
   "display_name": "Python 3 (ipykernel)",
   "language": "python",
   "name": "python3"
  },
  "language_info": {
   "codemirror_mode": {
    "name": "ipython",
    "version": 3
   },
   "file_extension": ".py",
   "mimetype": "text/x-python",
   "name": "python",
   "nbconvert_exporter": "python",
   "pygments_lexer": "ipython3",
   "version": "3.9.7"
  }
 },
 "nbformat": 4,
 "nbformat_minor": 5
}

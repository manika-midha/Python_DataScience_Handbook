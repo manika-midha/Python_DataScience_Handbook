{
 "cells": [
  {
   "cell_type": "code",
   "execution_count": 1,
   "id": "14161c83",
   "metadata": {},
   "outputs": [],
   "source": [
    "import numpy as np"
   ]
  },
  {
   "cell_type": "code",
   "execution_count": 4,
   "id": "4d96f318",
   "metadata": {},
   "outputs": [
    {
     "data": {
      "text/plain": [
       "array([0, 1, 2])"
      ]
     },
     "execution_count": 4,
     "metadata": {},
     "output_type": "execute_result"
    }
   ],
   "source": [
    "#1d array\n",
    "a = np.array([0,1,2])\n",
    "a"
   ]
  },
  {
   "cell_type": "code",
   "execution_count": 3,
   "id": "cfcda9f8",
   "metadata": {},
   "outputs": [
    {
     "data": {
      "text/plain": [
       "array([[1., 1., 1.],\n",
       "       [1., 1., 1.],\n",
       "       [1., 1., 1.]])"
      ]
     },
     "execution_count": 3,
     "metadata": {},
     "output_type": "execute_result"
    }
   ],
   "source": [
    "m = np.ones((3,3))\n",
    "m"
   ]
  },
  {
   "cell_type": "code",
   "execution_count": 5,
   "id": "f11fec8e",
   "metadata": {},
   "outputs": [
    {
     "data": {
      "text/plain": [
       "array([[1., 2., 3.],\n",
       "       [1., 2., 3.],\n",
       "       [1., 2., 3.]])"
      ]
     },
     "execution_count": 5,
     "metadata": {},
     "output_type": "execute_result"
    }
   ],
   "source": [
    "m + a"
   ]
  },
  {
   "cell_type": "code",
   "execution_count": 6,
   "id": "2e9c5388",
   "metadata": {},
   "outputs": [
    {
     "data": {
      "text/plain": [
       "array([[1., 2., 3.],\n",
       "       [1., 2., 3.],\n",
       "       [1., 2., 3.]])"
      ]
     },
     "execution_count": 6,
     "metadata": {},
     "output_type": "execute_result"
    }
   ],
   "source": [
    "a + m"
   ]
  },
  {
   "cell_type": "code",
   "execution_count": null,
   "id": "6be4ddc1",
   "metadata": {},
   "outputs": [],
   "source": []
  },
  {
   "cell_type": "code",
   "execution_count": null,
   "id": "f56fb134",
   "metadata": {},
   "outputs": [],
   "source": [
    "#2nd eg :"
   ]
  },
  {
   "cell_type": "code",
   "execution_count": 7,
   "id": "6d0e2211",
   "metadata": {},
   "outputs": [
    {
     "data": {
      "text/plain": [
       "array([0, 1, 2])"
      ]
     },
     "execution_count": 7,
     "metadata": {},
     "output_type": "execute_result"
    }
   ],
   "source": [
    "a = np.arange(3)\n",
    "a"
   ]
  },
  {
   "cell_type": "code",
   "execution_count": 8,
   "id": "286d5780",
   "metadata": {},
   "outputs": [
    {
     "data": {
      "text/plain": [
       "array([0, 1, 2])"
      ]
     },
     "execution_count": 8,
     "metadata": {},
     "output_type": "execute_result"
    }
   ],
   "source": [
    "b = np.arange(3)\n",
    "b"
   ]
  },
  {
   "cell_type": "code",
   "execution_count": 10,
   "id": "feb092bb",
   "metadata": {},
   "outputs": [
    {
     "data": {
      "text/plain": [
       "array([[0],\n",
       "       [1],\n",
       "       [2]])"
      ]
     },
     "execution_count": 10,
     "metadata": {},
     "output_type": "execute_result"
    }
   ],
   "source": [
    "b1 = b[:,np.newaxis]\n",
    "b1 "
   ]
  },
  {
   "cell_type": "code",
   "execution_count": 11,
   "id": "4b063d0e",
   "metadata": {},
   "outputs": [
    {
     "data": {
      "text/plain": [
       "array([[0, 1, 2],\n",
       "       [1, 2, 3],\n",
       "       [2, 3, 4]])"
      ]
     },
     "execution_count": 11,
     "metadata": {},
     "output_type": "execute_result"
    }
   ],
   "source": [
    "a + b1"
   ]
  },
  {
   "cell_type": "code",
   "execution_count": null,
   "id": "04636dd7",
   "metadata": {},
   "outputs": [],
   "source": [
    "#centering array :"
   ]
  },
  {
   "cell_type": "code",
   "execution_count": 12,
   "id": "37f2d023",
   "metadata": {},
   "outputs": [
    {
     "data": {
      "text/plain": [
       "array([[0.4020733 , 0.30563311, 0.67668051],\n",
       "       [0.15821208, 0.79247763, 0.09419469],\n",
       "       [0.36753944, 0.06388928, 0.96431608],\n",
       "       [0.35200998, 0.54550343, 0.88597945],\n",
       "       [0.57016965, 0.26614394, 0.8170382 ],\n",
       "       [0.55906652, 0.06387035, 0.84877751],\n",
       "       [0.89414484, 0.18920785, 0.23660015],\n",
       "       [0.16502896, 0.56583856, 0.29513111],\n",
       "       [0.29078012, 0.90079544, 0.59992434],\n",
       "       [0.09133896, 0.00578466, 0.97096222]])"
      ]
     },
     "execution_count": 12,
     "metadata": {},
     "output_type": "execute_result"
    }
   ],
   "source": [
    "rng = np.random.default_rng(seed=1701)\n",
    "X = rng.random((10,3))\n",
    "X"
   ]
  },
  {
   "cell_type": "code",
   "execution_count": 13,
   "id": "35e5f7e1",
   "metadata": {},
   "outputs": [
    {
     "data": {
      "text/plain": [
       "array([0.38503638, 0.36991443, 0.63896043])"
      ]
     },
     "execution_count": 13,
     "metadata": {},
     "output_type": "execute_result"
    }
   ],
   "source": [
    "Xm = X.mean(axis=0) #col\n",
    "Xm"
   ]
  },
  {
   "cell_type": "code",
   "execution_count": 14,
   "id": "84b831b3",
   "metadata": {},
   "outputs": [
    {
     "data": {
      "text/plain": [
       "array([[ 0.01703691, -0.06428131,  0.03772009],\n",
       "       [-0.2268243 ,  0.4225632 , -0.54476574],\n",
       "       [-0.01749695, -0.30602514,  0.32535566],\n",
       "       [-0.0330264 ,  0.175589  ,  0.24701902],\n",
       "       [ 0.18513326, -0.10377048,  0.17807777],\n",
       "       [ 0.17403013, -0.30604408,  0.20981709],\n",
       "       [ 0.50910846, -0.18070657, -0.40236028],\n",
       "       [-0.22000743,  0.19592414, -0.34382932],\n",
       "       [-0.09425626,  0.53088102, -0.03903608],\n",
       "       [-0.29369742, -0.36412976,  0.33200179]])"
      ]
     },
     "execution_count": 14,
     "metadata": {},
     "output_type": "execute_result"
    }
   ],
   "source": [
    "#center the X array by substracting the mean - broadcasting\n",
    "Xc = X - Xm\n",
    "Xc"
   ]
  },
  {
   "cell_type": "code",
   "execution_count": 15,
   "id": "efb89bdc",
   "metadata": {},
   "outputs": [
    {
     "data": {
      "text/plain": [
       "array([ 4.99600361e-17, -4.44089210e-17,  0.00000000e+00])"
      ]
     },
     "execution_count": 15,
     "metadata": {},
     "output_type": "execute_result"
    }
   ],
   "source": [
    "#centered array has 0 mean\n",
    "Xc.mean(axis=0)"
   ]
  },
  {
   "cell_type": "code",
   "execution_count": null,
   "id": "4b9a7fa6",
   "metadata": {},
   "outputs": [],
   "source": []
  }
 ],
 "metadata": {
  "kernelspec": {
   "display_name": "Python 3 (ipykernel)",
   "language": "python",
   "name": "python3"
  },
  "language_info": {
   "codemirror_mode": {
    "name": "ipython",
    "version": 3
   },
   "file_extension": ".py",
   "mimetype": "text/x-python",
   "name": "python",
   "nbconvert_exporter": "python",
   "pygments_lexer": "ipython3",
   "version": "3.9.7"
  }
 },
 "nbformat": 4,
 "nbformat_minor": 5
}

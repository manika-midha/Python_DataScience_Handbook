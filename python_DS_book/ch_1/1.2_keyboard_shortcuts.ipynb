{
 "cells": [
  {
   "cell_type": "code",
   "execution_count": null,
   "id": "455a22f9",
   "metadata": {},
   "outputs": [],
   "source": [
    "''' Navigation short cuts \n",
    "Mac :\n",
    "Ctrl-a\tMove cursor to the beginning of the line\n",
    "Ctrl-e\tMove cursor to the end of the line\n",
    "Ctrl-b or the left arrow key\tMove cursor back one character\n",
    "Ctrl-f or the right arrow key\tMove cursor forward one character '''"
   ]
  },
  {
   "cell_type": "code",
   "execution_count": null,
   "id": "c24262bb",
   "metadata": {},
   "outputs": [],
   "source": [
    "#testing keyboard shortcuts"
   ]
  },
  {
   "cell_type": "code",
   "execution_count": null,
   "id": "9f4a0a11",
   "metadata": {},
   "outputs": [],
   "source": [
    "'''Text Entry Shortcuts\n",
    "Keystroke\tAction\n",
    "Backspace key\tDelete previous character in line\n",
    "Ctrl-d\tDelete next character in line\n",
    "Ctrl-k\tCut text from cursor to end of line\n",
    "Ctrl-u\tCut text from beginning of line to cursor\n",
    "Ctrl-y\tYank (i.e. paste) text that was previously cut\n",
    "Ctrl-t\tTranspose (i.e., switch) previous two characters'''"
   ]
  },
  {
   "cell_type": "code",
   "execution_count": null,
   "id": "57510e1e",
   "metadata": {},
   "outputs": [],
   "source": [
    "#testing text entyr "
   ]
  },
  {
   "cell_type": "code",
   "execution_count": null,
   "id": "ace7ba1f",
   "metadata": {},
   "outputs": [],
   "source": [
    "'''Command History Shortcuts\n",
    "Keystroke\tAction\n",
    "Ctrl-p (or the up arrow key)\tAccess previous command in history\n",
    "Ctrl-n (or the down arrow key)\tAccess next command in history\n",
    "Ctrl-r\tReverse-search through command history\n",
    "'''"
   ]
  },
  {
   "cell_type": "code",
   "execution_count": null,
   "id": "f59e4f8c",
   "metadata": {},
   "outputs": [],
   "source": [
    "'''\n",
    "Miscellaneous Shortcuts\n",
    "Keystroke\tAction\n",
    "Ctrl-l\tClear terminal screen\n",
    "Ctrl-c\tInterrupt current Python command\n",
    "Ctrl-d\tExit IPython session\n",
    "The Ctrl-c in particular can be useful when you inadvertently start a very long-running job.\n",
    "'''"
   ]
  },
  {
   "cell_type": "code",
   "execution_count": null,
   "id": "9a4cff06",
   "metadata": {},
   "outputs": [],
   "source": []
  },
  {
   "cell_type": "code",
   "execution_count": null,
   "id": "623f457d",
   "metadata": {},
   "outputs": [],
   "source": []
  }
 ],
 "metadata": {
  "kernelspec": {
   "display_name": "Python 3 (ipykernel)",
   "language": "python",
   "name": "python3"
  },
  "language_info": {
   "codemirror_mode": {
    "name": "ipython",
    "version": 3
   },
   "file_extension": ".py",
   "mimetype": "text/x-python",
   "name": "python",
   "nbconvert_exporter": "python",
   "pygments_lexer": "ipython3",
   "version": "3.9.7"
  }
 },
 "nbformat": 4,
 "nbformat_minor": 5
}

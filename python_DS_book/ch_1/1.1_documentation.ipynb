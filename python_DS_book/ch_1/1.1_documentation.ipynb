{
 "cells": [
  {
   "cell_type": "code",
   "execution_count": 1,
   "id": "da35f0ff",
   "metadata": {},
   "outputs": [],
   "source": [
    "#Access documentation with ?\n",
    "len?"
   ]
  },
  {
   "cell_type": "code",
   "execution_count": 3,
   "id": "6d3b60c7",
   "metadata": {},
   "outputs": [],
   "source": [
    "L = [1,2,3]\n",
    "L.insert?"
   ]
  },
  {
   "cell_type": "code",
   "execution_count": 7,
   "id": "87e6f7db",
   "metadata": {},
   "outputs": [
    {
     "data": {
      "text/plain": [
       "9"
      ]
     },
     "execution_count": 7,
     "metadata": {},
     "output_type": "execute_result"
    }
   ],
   "source": [
    "def square(a):\n",
    "    '''returns square of number passed as input'''\n",
    "    return a*a\n",
    "\n",
    "square?\n",
    "square(3)"
   ]
  },
  {
   "cell_type": "code",
   "execution_count": 9,
   "id": "6abe2e58",
   "metadata": {},
   "outputs": [],
   "source": [
    "#Access source code with ??\n",
    "square??"
   ]
  },
  {
   "cell_type": "code",
   "execution_count": null,
   "id": "e8cbbd3a",
   "metadata": {},
   "outputs": [],
   "source": [
    "##Tab-completion of object contents\n",
    "#type the name of the object followed by a period (\".\") character and the Tab key:\n",
    "L.append\n",
    "L.copy"
   ]
  },
  {
   "cell_type": "code",
   "execution_count": null,
   "id": "69964449",
   "metadata": {},
   "outputs": [],
   "source": [
    "#private/internal attributes: by convention a preceding underscore is used to denote such methods. \n",
    "#L period underscore tab key\n",
    "L._"
   ]
  },
  {
   "cell_type": "code",
   "execution_count": null,
   "id": "60b51e8c",
   "metadata": {},
   "outputs": [],
   "source": [
    "#Python's special double-underscore methods (often nicknamed \"dunder\" methods)."
   ]
  },
  {
   "cell_type": "code",
   "execution_count": null,
   "id": "afdeb4b9",
   "metadata": {},
   "outputs": [],
   "source": [
    "##Tab completion when importing\n",
    "#\n",
    "import "
   ]
  },
  {
   "cell_type": "code",
   "execution_count": 12,
   "id": "9ce16262",
   "metadata": {},
   "outputs": [],
   "source": [
    "#IPython provides a means of wildcard matching for names using the * character.\n",
    "*Warning?\n",
    "str.*find? #all string methods that have word find"
   ]
  },
  {
   "cell_type": "code",
   "execution_count": null,
   "id": "c6dd2689",
   "metadata": {},
   "outputs": [],
   "source": []
  },
  {
   "cell_type": "code",
   "execution_count": null,
   "id": "c9c0f24e",
   "metadata": {},
   "outputs": [],
   "source": []
  }
 ],
 "metadata": {
  "kernelspec": {
   "display_name": "Python 3 (ipykernel)",
   "language": "python",
   "name": "python3"
  },
  "language_info": {
   "codemirror_mode": {
    "name": "ipython",
    "version": 3
   },
   "file_extension": ".py",
   "mimetype": "text/x-python",
   "name": "python",
   "nbconvert_exporter": "python",
   "pygments_lexer": "ipython3",
   "version": "3.9.7"
  }
 },
 "nbformat": 4,
 "nbformat_minor": 5
}

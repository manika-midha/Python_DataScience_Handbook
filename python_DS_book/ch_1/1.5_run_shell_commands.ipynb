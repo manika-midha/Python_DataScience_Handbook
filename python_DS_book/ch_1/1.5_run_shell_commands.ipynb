{
 "cells": [
  {
   "cell_type": "code",
   "execution_count": 1,
   "id": "0784097b",
   "metadata": {},
   "outputs": [
    {
     "name": "stdout",
     "output_type": "stream",
     "text": [
      "1.1_documentation.ipynb      1.3_my_script.py\r\n",
      "1.2_keyboard_shortcuts.ipynb 1.4_in_and_out_objects.ipynb\r\n",
      "1.3_magic_commands.ipynb     1.5_run_shell_commands.ipynb\r\n"
     ]
    }
   ],
   "source": [
    "!ls"
   ]
  },
  {
   "cell_type": "code",
   "execution_count": 2,
   "id": "ec863ae6",
   "metadata": {},
   "outputs": [
    {
     "name": "stdout",
     "output_type": "stream",
     "text": [
      "printing shell commands from jupyter notebook\r\n"
     ]
    }
   ],
   "source": [
    "!echo \"printing shell commands from jupyter notebook\""
   ]
  },
  {
   "cell_type": "code",
   "execution_count": 4,
   "id": "9af720cd",
   "metadata": {},
   "outputs": [
    {
     "data": {
      "text/plain": [
       "['1.1_documentation.ipynb',\n",
       " '1.2_keyboard_shortcuts.ipynb',\n",
       " '1.3_magic_commands.ipynb',\n",
       " '1.3_my_script.py',\n",
       " '1.4_in_and_out_objects.ipynb',\n",
       " '1.5_run_shell_commands.ipynb']"
      ]
     },
     "execution_count": 4,
     "metadata": {},
     "output_type": "execute_result"
    }
   ],
   "source": [
    "contents = !ls\n",
    "contents"
   ]
  },
  {
   "cell_type": "code",
   "execution_count": 6,
   "id": "95b36ab6",
   "metadata": {},
   "outputs": [
    {
     "data": {
      "text/plain": [
       "IPython.utils.text.SList"
      ]
     },
     "execution_count": 6,
     "metadata": {},
     "output_type": "execute_result"
    }
   ],
   "source": [
    "type(contents)"
   ]
  },
  {
   "cell_type": "code",
   "execution_count": 5,
   "id": "32bd1502",
   "metadata": {},
   "outputs": [
    {
     "name": "stdout",
     "output_type": "stream",
     "text": [
      "/Users/manikamidha/Desktop/Manika/python_DS_book/ch_1\r\n"
     ]
    }
   ],
   "source": [
    "!pwd"
   ]
  },
  {
   "cell_type": "code",
   "execution_count": 9,
   "id": "c4b17f21",
   "metadata": {},
   "outputs": [
    {
     "name": "stdout",
     "output_type": "stream",
     "text": [
      "zsh:1: command not found: cd..\r\n"
     ]
    }
   ],
   "source": [
    "!cd.."
   ]
  },
  {
   "cell_type": "code",
   "execution_count": 8,
   "id": "45934040",
   "metadata": {},
   "outputs": [
    {
     "name": "stdout",
     "output_type": "stream",
     "text": [
      "Hello from Python\r\n"
     ]
    }
   ],
   "source": [
    "msg = \"Hello from Python\"\n",
    "!echo {msg}"
   ]
  },
  {
   "cell_type": "code",
   "execution_count": 12,
   "id": "eb0be9e1",
   "metadata": {},
   "outputs": [
    {
     "name": "stdout",
     "output_type": "stream",
     "text": [
      "mkdir: tmp: File exists\r\n"
     ]
    }
   ],
   "source": [
    "mkdir tmp;\n"
   ]
  },
  {
   "cell_type": "code",
   "execution_count": 14,
   "id": "e0969d19",
   "metadata": {},
   "outputs": [
    {
     "name": "stdout",
     "output_type": "stream",
     "text": [
      "1.1_documentation.ipynb      1.4_in_and_out_objects.ipynb\r\n",
      "1.2_keyboard_shortcuts.ipynb 1.5_run_shell_commands.ipynb\r\n",
      "1.3_magic_commands.ipynb     \u001b[34mtmp\u001b[m\u001b[m\r\n",
      "1.3_my_script.py\r\n"
     ]
    }
   ],
   "source": [
    "!ls"
   ]
  },
  {
   "cell_type": "code",
   "execution_count": 15,
   "id": "d16ba2d2",
   "metadata": {},
   "outputs": [],
   "source": [
    "rmdir tmp"
   ]
  },
  {
   "cell_type": "code",
   "execution_count": 16,
   "id": "0d2e08d5",
   "metadata": {},
   "outputs": [
    {
     "name": "stdout",
     "output_type": "stream",
     "text": [
      "1.1_documentation.ipynb      1.3_my_script.py\r\n",
      "1.2_keyboard_shortcuts.ipynb 1.4_in_and_out_objects.ipynb\r\n",
      "1.3_magic_commands.ipynb     1.5_run_shell_commands.ipynb\r\n"
     ]
    }
   ],
   "source": [
    "!ls"
   ]
  }
 ],
 "metadata": {
  "kernelspec": {
   "display_name": "Python 3 (ipykernel)",
   "language": "python",
   "name": "python3"
  },
  "language_info": {
   "codemirror_mode": {
    "name": "ipython",
    "version": 3
   },
   "file_extension": ".py",
   "mimetype": "text/x-python",
   "name": "python",
   "nbconvert_exporter": "python",
   "pygments_lexer": "ipython3",
   "version": "3.9.7"
  }
 },
 "nbformat": 4,
 "nbformat_minor": 5
}

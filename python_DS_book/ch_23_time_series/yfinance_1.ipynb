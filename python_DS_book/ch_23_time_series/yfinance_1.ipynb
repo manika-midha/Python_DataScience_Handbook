{
 "cells": [
  {
   "cell_type": "code",
   "execution_count": 3,
   "id": "6b39db1b",
   "metadata": {},
   "outputs": [
    {
     "name": "stdout",
     "output_type": "stream",
     "text": [
      "Collecting pandas-datareader\n",
      "  Downloading pandas_datareader-0.10.0-py3-none-any.whl (109 kB)\n",
      "\u001b[K     |████████████████████████████████| 109 kB 4.7 MB/s eta 0:00:01\n",
      "\u001b[?25hRequirement already satisfied: requests>=2.19.0 in /Users/manikamidha/.local/lib/python3.9/site-packages (from pandas-datareader) (2.31.0)\n",
      "Requirement already satisfied: pandas>=0.23 in /Users/manikamidha/opt/anaconda3/lib/python3.9/site-packages (from pandas-datareader) (1.3.4)\n",
      "Requirement already satisfied: lxml in /Users/manikamidha/opt/anaconda3/lib/python3.9/site-packages (from pandas-datareader) (4.6.3)\n",
      "Requirement already satisfied: python-dateutil>=2.7.3 in /Users/manikamidha/opt/anaconda3/lib/python3.9/site-packages (from pandas>=0.23->pandas-datareader) (2.8.2)\n",
      "Requirement already satisfied: pytz>=2017.3 in /Users/manikamidha/opt/anaconda3/lib/python3.9/site-packages (from pandas>=0.23->pandas-datareader) (2021.3)\n",
      "Requirement already satisfied: numpy>=1.17.3 in /Users/manikamidha/opt/anaconda3/lib/python3.9/site-packages (from pandas>=0.23->pandas-datareader) (1.20.3)\n",
      "Requirement already satisfied: six>=1.5 in /Users/manikamidha/.local/lib/python3.9/site-packages (from python-dateutil>=2.7.3->pandas>=0.23->pandas-datareader) (1.16.0)\n",
      "Requirement already satisfied: certifi>=2017.4.17 in /Users/manikamidha/.local/lib/python3.9/site-packages (from requests>=2.19.0->pandas-datareader) (2023.5.7)\n",
      "Requirement already satisfied: idna<4,>=2.5 in /Users/manikamidha/.local/lib/python3.9/site-packages (from requests>=2.19.0->pandas-datareader) (3.4)\n",
      "Requirement already satisfied: urllib3<3,>=1.21.1 in /Users/manikamidha/.local/lib/python3.9/site-packages (from requests>=2.19.0->pandas-datareader) (1.26.16)\n",
      "Requirement already satisfied: charset-normalizer<4,>=2 in /Users/manikamidha/.local/lib/python3.9/site-packages (from requests>=2.19.0->pandas-datareader) (3.1.0)\n",
      "Installing collected packages: pandas-datareader\n",
      "Successfully installed pandas-datareader-0.10.0\n",
      "Note: you may need to restart the kernel to use updated packages.\n"
     ]
    }
   ],
   "source": [
    "pip install pandas-datareader"
   ]
  },
  {
   "cell_type": "code",
   "execution_count": 3,
   "id": "68335bf3",
   "metadata": {},
   "outputs": [],
   "source": [
    "#from pandas_datareader import data"
   ]
  },
  {
   "cell_type": "code",
   "execution_count": 2,
   "id": "1641c0f3",
   "metadata": {},
   "outputs": [],
   "source": [
    "import pandas as pd"
   ]
  },
  {
   "cell_type": "code",
   "execution_count": 14,
   "id": "32b4713f",
   "metadata": {},
   "outputs": [
    {
     "data": {
      "text/html": [
       "<div>\n",
       "<style scoped>\n",
       "    .dataframe tbody tr th:only-of-type {\n",
       "        vertical-align: middle;\n",
       "    }\n",
       "\n",
       "    .dataframe tbody tr th {\n",
       "        vertical-align: top;\n",
       "    }\n",
       "\n",
       "    .dataframe thead th {\n",
       "        text-align: right;\n",
       "    }\n",
       "</style>\n",
       "<table border=\"1\" class=\"dataframe\">\n",
       "  <thead>\n",
       "    <tr style=\"text-align: right;\">\n",
       "      <th></th>\n",
       "    </tr>\n",
       "    <tr>\n",
       "      <th>No data</th>\n",
       "    </tr>\n",
       "  </thead>\n",
       "  <tbody>\n",
       "  </tbody>\n",
       "</table>\n",
       "</div>"
      ],
      "text/plain": [
       "Empty DataFrame\n",
       "Columns: []\n",
       "Index: []"
      ]
     },
     "execution_count": 14,
     "metadata": {},
     "output_type": "execute_result"
    }
   ],
   "source": [
    "#s&p 500 price history\n",
    "# The ticker symbol for the S&P 500 index is ^GSPC.\n",
    "sp500 = data.DataReader('^GSPC', start='2018', end='2022', data_source='stooq') #data_source='yahoo'\n",
    "sp500.head() "
   ]
  },
  {
   "cell_type": "code",
   "execution_count": 7,
   "id": "f24e41d2",
   "metadata": {},
   "outputs": [],
   "source": [
    "data.DataReader?"
   ]
  },
  {
   "cell_type": "code",
   "execution_count": 34,
   "id": "9c7bbca3",
   "metadata": {},
   "outputs": [],
   "source": [
    "#pip install yfinance"
   ]
  },
  {
   "cell_type": "code",
   "execution_count": 35,
   "id": "7cb6d3e5",
   "metadata": {},
   "outputs": [
    {
     "name": "stdout",
     "output_type": "stream",
     "text": [
      "Looking in indexes: https://pypi.anaconda.org/ranaroussi/simple\n",
      "Collecting yfinance\n",
      "  Downloading https://pypi.anaconda.org/ranaroussi/simple/yfinance/0.1.63/yfinance-0.1.63.tar.gz (26 kB)\n",
      "Requirement already satisfied: pandas>=0.24 in /Users/manikamidha/opt/anaconda3/lib/python3.9/site-packages (from yfinance) (1.3.4)\n",
      "Requirement already satisfied: numpy>=1.15 in /Users/manikamidha/opt/anaconda3/lib/python3.9/site-packages (from yfinance) (1.20.3)\n",
      "Requirement already satisfied: requests>=2.20 in /Users/manikamidha/.local/lib/python3.9/site-packages (from yfinance) (2.31.0)\n",
      "Requirement already satisfied: multitasking>=0.0.7 in /Users/manikamidha/opt/anaconda3/lib/python3.9/site-packages (from yfinance) (0.0.11)\n",
      "Requirement already satisfied: lxml>=4.5.1 in /Users/manikamidha/opt/anaconda3/lib/python3.9/site-packages (from yfinance) (4.6.3)\n",
      "Requirement already satisfied: python-dateutil>=2.7.3 in /Users/manikamidha/opt/anaconda3/lib/python3.9/site-packages (from pandas>=0.24->yfinance) (2.8.2)\n",
      "Requirement already satisfied: pytz>=2017.3 in /Users/manikamidha/opt/anaconda3/lib/python3.9/site-packages (from pandas>=0.24->yfinance) (2023.3.post1)\n",
      "Requirement already satisfied: six>=1.5 in /Users/manikamidha/.local/lib/python3.9/site-packages (from python-dateutil>=2.7.3->pandas>=0.24->yfinance) (1.16.0)\n",
      "Requirement already satisfied: idna<4,>=2.5 in /Users/manikamidha/.local/lib/python3.9/site-packages (from requests>=2.20->yfinance) (3.4)\n",
      "Requirement already satisfied: charset-normalizer<4,>=2 in /Users/manikamidha/.local/lib/python3.9/site-packages (from requests>=2.20->yfinance) (3.1.0)\n",
      "Requirement already satisfied: urllib3<3,>=1.21.1 in /Users/manikamidha/.local/lib/python3.9/site-packages (from requests>=2.20->yfinance) (1.26.16)\n",
      "Requirement already satisfied: certifi>=2017.4.17 in /Users/manikamidha/.local/lib/python3.9/site-packages (from requests>=2.20->yfinance) (2023.5.7)\n",
      "Building wheels for collected packages: yfinance\n",
      "  Building wheel for yfinance (setup.py) ... \u001b[?25ldone\n",
      "\u001b[?25h  Created wheel for yfinance: filename=yfinance-0.1.63-py2.py3-none-any.whl size=23918 sha256=db4f3f239c150f960aab4636ba4bb473273fc6f6749ddd9184514711b062047a\n",
      "  Stored in directory: /Users/manikamidha/Library/Caches/pip/wheels/1d/c6/a4/67f1aeb5c4e6cbef512e0bdb1c4e4006f69a381f417e0e246f\n",
      "Successfully built yfinance\n",
      "Installing collected packages: yfinance\n",
      "Successfully installed yfinance-0.1.63\n",
      "Note: you may need to restart the kernel to use updated packages.\n"
     ]
    }
   ],
   "source": [
    "pip install -i https://pypi.anaconda.org/ranaroussi/simple yfinance"
   ]
  },
  {
   "cell_type": "code",
   "execution_count": null,
   "id": "b4efdfef",
   "metadata": {},
   "outputs": [],
   "source": []
  },
  {
   "cell_type": "code",
   "execution_count": null,
   "id": "2885da19",
   "metadata": {},
   "outputs": [],
   "source": []
  },
  {
   "cell_type": "code",
   "execution_count": null,
   "id": "ddd9879a",
   "metadata": {},
   "outputs": [],
   "source": []
  },
  {
   "cell_type": "code",
   "execution_count": null,
   "id": "cc5d90ff",
   "metadata": {},
   "outputs": [],
   "source": []
  },
  {
   "cell_type": "code",
   "execution_count": 5,
   "id": "305eb967",
   "metadata": {},
   "outputs": [],
   "source": [
    "from pandas_datareader import data as pdr\n",
    "import yfinance as yf \n",
    "yf.pdr_override()\n"
   ]
  },
  {
   "cell_type": "code",
   "execution_count": 11,
   "id": "7e5640d1",
   "metadata": {},
   "outputs": [
    {
     "name": "stdout",
     "output_type": "stream",
     "text": [
      "[*********************100%***********************]  1 of 1 completed\n"
     ]
    },
    {
     "data": {
      "text/html": [
       "<div>\n",
       "<style scoped>\n",
       "    .dataframe tbody tr th:only-of-type {\n",
       "        vertical-align: middle;\n",
       "    }\n",
       "\n",
       "    .dataframe tbody tr th {\n",
       "        vertical-align: top;\n",
       "    }\n",
       "\n",
       "    .dataframe thead th {\n",
       "        text-align: right;\n",
       "    }\n",
       "</style>\n",
       "<table border=\"1\" class=\"dataframe\">\n",
       "  <thead>\n",
       "    <tr style=\"text-align: right;\">\n",
       "      <th></th>\n",
       "      <th>Open</th>\n",
       "      <th>High</th>\n",
       "      <th>Low</th>\n",
       "      <th>Close</th>\n",
       "      <th>Adj Close</th>\n",
       "      <th>Volume</th>\n",
       "    </tr>\n",
       "    <tr>\n",
       "      <th>Date</th>\n",
       "      <th></th>\n",
       "      <th></th>\n",
       "      <th></th>\n",
       "      <th></th>\n",
       "      <th></th>\n",
       "      <th></th>\n",
       "    </tr>\n",
       "  </thead>\n",
       "  <tbody>\n",
       "    <tr>\n",
       "      <th>2018-01-02</th>\n",
       "      <td>2683.729980</td>\n",
       "      <td>2695.889893</td>\n",
       "      <td>2682.360107</td>\n",
       "      <td>2695.810059</td>\n",
       "      <td>2695.810059</td>\n",
       "      <td>3397430000</td>\n",
       "    </tr>\n",
       "    <tr>\n",
       "      <th>2018-01-03</th>\n",
       "      <td>2697.850098</td>\n",
       "      <td>2714.370117</td>\n",
       "      <td>2697.770020</td>\n",
       "      <td>2713.060059</td>\n",
       "      <td>2713.060059</td>\n",
       "      <td>3544030000</td>\n",
       "    </tr>\n",
       "    <tr>\n",
       "      <th>2018-01-04</th>\n",
       "      <td>2719.310059</td>\n",
       "      <td>2729.290039</td>\n",
       "      <td>2719.070068</td>\n",
       "      <td>2723.989990</td>\n",
       "      <td>2723.989990</td>\n",
       "      <td>3697340000</td>\n",
       "    </tr>\n",
       "    <tr>\n",
       "      <th>2018-01-05</th>\n",
       "      <td>2731.330078</td>\n",
       "      <td>2743.449951</td>\n",
       "      <td>2727.919922</td>\n",
       "      <td>2743.149902</td>\n",
       "      <td>2743.149902</td>\n",
       "      <td>3239280000</td>\n",
       "    </tr>\n",
       "    <tr>\n",
       "      <th>2018-01-08</th>\n",
       "      <td>2742.669922</td>\n",
       "      <td>2748.510010</td>\n",
       "      <td>2737.600098</td>\n",
       "      <td>2747.709961</td>\n",
       "      <td>2747.709961</td>\n",
       "      <td>3246160000</td>\n",
       "    </tr>\n",
       "  </tbody>\n",
       "</table>\n",
       "</div>"
      ],
      "text/plain": [
       "                   Open         High          Low        Close    Adj Close  \\\n",
       "Date                                                                          \n",
       "2018-01-02  2683.729980  2695.889893  2682.360107  2695.810059  2695.810059   \n",
       "2018-01-03  2697.850098  2714.370117  2697.770020  2713.060059  2713.060059   \n",
       "2018-01-04  2719.310059  2729.290039  2719.070068  2723.989990  2723.989990   \n",
       "2018-01-05  2731.330078  2743.449951  2727.919922  2743.149902  2743.149902   \n",
       "2018-01-08  2742.669922  2748.510010  2737.600098  2747.709961  2747.709961   \n",
       "\n",
       "                Volume  \n",
       "Date                    \n",
       "2018-01-02  3397430000  \n",
       "2018-01-03  3544030000  \n",
       "2018-01-04  3697340000  \n",
       "2018-01-05  3239280000  \n",
       "2018-01-08  3246160000  "
      ]
     },
     "execution_count": 11,
     "metadata": {},
     "output_type": "execute_result"
    }
   ],
   "source": [
    "#YYYY-MM-DD\n",
    "sp500 = pdr.DataReader('^GSPC', start='2018-01-01', end='2022-01-01', data_source='yahoo') #data_source='yahoo'\n",
    "sp500.head() "
   ]
  },
  {
   "cell_type": "code",
   "execution_count": 14,
   "id": "dc81f5be",
   "metadata": {},
   "outputs": [],
   "source": [
    "sp500_close = sp500['Close']"
   ]
  },
  {
   "cell_type": "code",
   "execution_count": 15,
   "id": "42c43c95",
   "metadata": {},
   "outputs": [
    {
     "data": {
      "text/plain": [
       "<AxesSubplot:xlabel='Date'>"
      ]
     },
     "execution_count": 15,
     "metadata": {},
     "output_type": "execute_result"
    },
    {
     "data": {
      "image/png": "[encoded data removed]",
      "text/plain": [
       "<Figure size 432x288 with 1 Axes>"
      ]
     },
     "metadata": {},
     "output_type": "display_data"
    }
   ],
   "source": [
    "%matplotlib inline\n",
    "import matplotlib.pyplot as plt\n",
    "plt.style.use('seaborn-whitegrid')\n",
    "sp500_close.plot()"
   ]
  },
  {
   "cell_type": "code",
   "execution_count": 25,
   "id": "31ceb663",
   "metadata": {},
   "outputs": [
    {
     "name": "stdout",
     "output_type": "stream",
     "text": [
      "            Dividends  Stock Splits\n",
      "Date                               \n",
      "2000-06-27    0.00000           2.0\n",
      "2001-09-12    0.00000           2.0\n",
      "2006-04-07    0.00000           2.0\n",
      "2007-09-11    0.00000           1.5\n",
      "2012-11-20    0.01875           0.0\n",
      "2013-02-26    0.01875           0.0\n",
      "2013-05-21    0.01875           0.0\n",
      "2013-08-20    0.01875           0.0\n",
      "2013-11-19    0.02125           0.0\n",
      "2014-02-25    0.02125           0.0\n",
      "2014-05-20    0.02125           0.0\n",
      "2014-08-19    0.02125           0.0\n",
      "2014-11-19    0.02125           0.0\n",
      "2015-02-24    0.02125           0.0\n",
      "2015-05-19    0.02450           0.0\n",
      "2015-08-18    0.02450           0.0\n",
      "2015-11-18    0.02875           0.0\n",
      "2016-02-29    0.02875           0.0\n",
      "2016-05-24    0.02875           0.0\n",
      "2016-08-23    0.02875           0.0\n",
      "2016-11-23    0.03500           0.0\n",
      "2017-02-22    0.03500           0.0\n",
      "2017-05-19    0.03500           0.0\n",
      "2017-08-22    0.03500           0.0\n",
      "2017-11-22    0.03750           0.0\n",
      "2018-02-22    0.03750           0.0\n",
      "2018-05-23    0.03750           0.0\n",
      "2018-08-29    0.03750           0.0\n",
      "2018-11-29    0.04000           0.0\n",
      "2019-02-28    0.04000           0.0\n",
      "2019-05-30    0.04000           0.0\n",
      "2019-08-28    0.04000           0.0\n",
      "2019-11-27    0.04000           0.0\n",
      "2020-02-27    0.04000           0.0\n",
      "2020-06-04    0.04000           0.0\n",
      "2020-09-01    0.04000           0.0\n",
      "2020-12-03    0.04000           0.0\n",
      "2021-03-09    0.04000           0.0\n",
      "2021-06-09    0.04000           0.0\n",
      "2021-07-20    0.00000           4.0\n",
      "2021-08-31    0.04000           0.0\n",
      "2021-12-01    0.04000           0.0\n",
      "2022-03-02    0.04000           0.0\n",
      "2022-06-08    0.04000           0.0\n",
      "2022-09-07    0.04000           0.0\n",
      "2022-11-30    0.04000           0.0\n",
      "2023-03-07    0.04000           0.0\n",
      "2023-06-07    0.04000           0.0\n",
      "2023-09-06    0.04000           0.0\n",
      "2023-12-05    0.04000           0.0\n"
     ]
    }
   ],
   "source": [
    "# stock specific data\n",
    "nvda = yf.Ticker(\"NVDA\")\n",
    "print(nvda.actions)\n",
    "#print(nvda.dividends)\n",
    "#print(nvda.splits)"
   ]
  },
  {
   "cell_type": "code",
   "execution_count": null,
   "id": "165a8290",
   "metadata": {},
   "outputs": [],
   "source": []
  }
 ],
 "metadata": {
  "kernelspec": {
   "display_name": "Python 3 (ipykernel)",
   "language": "python",
   "name": "python3"
  },
  "language_info": {
   "codemirror_mode": {
    "name": "ipython",
    "version": 3
   },
   "file_extension": ".py",
   "mimetype": "text/x-python",
   "name": "python",
   "nbconvert_exporter": "python",
   "pygments_lexer": "ipython3",
   "version": "3.9.7"
  }
 },
 "nbformat": 4,
 "nbformat_minor": 5
}
